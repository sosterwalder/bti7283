{
 "metadata": {
  "name": ""
 },
 "nbformat": 3,
 "nbformat_minor": 0,
 "worksheets": [
  {
   "cells": [
    {
     "cell_type": "markdown",
     "metadata": {},
     "source": [
      "# Exercise 1: Solving Hermite equations\n",
      "\n",
      "Without using a CAS system, compute the generic values of the four unknown a, b, c, d when\n",
      "one know the values of $P_{0}$, $P_{1}$, $P_0^t$ and $P_1^t$."
     ]
    },
    {
     "cell_type": "code",
     "collapsed": false,
     "input": [],
     "language": "python",
     "metadata": {},
     "outputs": []
    },
    {
     "cell_type": "code",
     "collapsed": false,
     "input": [
      "# Imports\n",
      "import numpy\n",
      "\n",
      "# Assumption about points and tangents\n",
      "p0   = numpy.array([0, 0])\n",
      "p0_t = numpy.array([-2, 1])\n",
      "p1   = numpy.array([1, 0.7])\n",
      "p1_t = numpy.array([1.5, -3])\n",
      "\n",
      "# Compute coefficients\n",
      "# a = 2 * p0 - 2 * p1 + p0_t + p1_t\n",
      "# b = -3 * p0 + 3 * p1 - 2 * p0_t - p1_t\n",
      "# c = p0_t\n",
      "# d = p0\n",
      "\n",
      "# We do this by hand, as stated in the exercise\n",
      "p0_times_two = [ 2 * p0[0], 2 * p0[1] ]\n",
      "p0_times_two_cas = 2 * p0\n",
      "assert numpy.array_equal(p0_times_two, p0_times_two_cas)\n",
      "print (\"2 * p0 = [2 * p0.x]\\n\"\n",
      "       \"         [2 * p0.y]\\n\")\n",
      "\n",
      "p1_times_two = [ 2 * p1[0], 2 * p1[1] ]\n",
      "p1_times_two_cas = 2 * p1\n",
      "assert numpy.array_equal(p1_times_two, p1_times_two_cas)\n",
      "print (\"2 * p1 = [2 * p1.x]\\n\"\n",
      "       \"         [2 * p1.y]\\n\")\n",
      "\n",
      "# p0_times_two - p1_times_two\n",
      "p0_minus_p1 = [ \n",
      "    p0_times_two[0] - p1_times_two[0],\n",
      "    p0_times_two[1] - p1_times_two[1]\n",
      "]\n",
      "p0_minus_p1_cas = 2 * p0 - 2 * p1\n",
      "assert numpy.array_equal(p0_minus_p1, p0_minus_p1_cas)\n",
      "\n",
      "# p0_minus_p1 + p0_t\n",
      "p0_minus_p1_plus_p0_t = [\n",
      "    p0_minus_p1[0] + p0_t[0],\n",
      "    p0_minus_p1[1] + p0_t[1],\n",
      "]\n",
      "p0_minus_p1_plus_p0_t_cas = 2 * p0 - 2 * p1 + p0_t\n",
      "assert numpy.array_equal(p0_minus_p1_plus_p0_t, p0_minus_p1_plus_p0_t_cas)\n",
      "\n",
      "# p0_minus_p1_plus_p0_t + p1_t\n",
      "p0_minus_p1_plus_p0_t_plus_p1_t = [\n",
      "    p0_minus_p1_plus_p0_t[0] + p1_t[0],\n",
      "    p0_minus_p1_plus_p0_t[1] + p1_t[1],\n",
      "]\n",
      "p0_minus_p1_plus_p0_t_plus_p1_t_cas = 2 * p0 - 2 * p1 + p0_t + p1_t\n",
      "assert numpy.array_equal(p0_minus_p1_plus_p0_t_plus_p1_t, p0_minus_p1_plus_p0_t_plus_p1_t_cas)\n",
      "\n",
      "a = p0_minus_p1_plus_p0_t_plus_p1_t\n",
      "a_cas = 2 * p0 - 2 * p1 + p0_t + p1_t\n",
      "assert numpy.array_equal(a, a_cas)\n",
      "\n",
      "b = -3 * p0 + 3 * p1 - 2 * p0_t - p1_t\n",
      "c = p0_t\n",
      "d = p0\n",
      "\n",
      "print ('a: {0}\\n'\n",
      "       'b: {1}\\n'\n",
      "       'c: {2}\\n'\n",
      "       'd: {3}'\n",
      "       ).format(\n",
      "           a, b, c, d\n",
      "        )"
     ],
     "language": "python",
     "metadata": {},
     "outputs": [
      {
       "output_type": "stream",
       "stream": "stdout",
       "text": [
        "2 * p0 = [2 * p0.x]\n",
        "         [2 * p0.y]\n",
        "\n",
        "2 * p1 = [2 * p1.x]\n",
        "         [2 * p1.y]\n",
        "\n",
        "a: [-2.5, -3.3999999999999999]\n",
        "b: [ 5.5  3.1]\n",
        "c: [-2  1]\n",
        "d: [0 0]\n"
       ]
      }
     ],
     "prompt_number": 40
    },
    {
     "cell_type": "code",
     "collapsed": false,
     "input": [
      "i"
     ],
     "language": "python",
     "metadata": {},
     "outputs": [],
     "prompt_number": 18
    },
    {
     "cell_type": "code",
     "collapsed": false,
     "input": [],
     "language": "python",
     "metadata": {},
     "outputs": []
    }
   ],
   "metadata": {}
  }
 ]
}