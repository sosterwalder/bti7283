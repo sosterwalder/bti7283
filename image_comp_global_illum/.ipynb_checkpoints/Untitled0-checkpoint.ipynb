{
 "metadata": {
  "name": ""
 },
 "nbformat": 3,
 "nbformat_minor": 0,
 "worksheets": [
  {
   "cells": [
    {
     "cell_type": "code",
     "collapsed": false,
     "input": [
      "import math\n",
      "import string\n",
      "\n",
      "def sign_entropy(sign_probability):\n",
      "    return -math.log(sign_probability, 2)\n",
      "\n",
      "def sign_mean_entropy(sign_probability):\n",
      "    return sign_probability * sign_entropy(sign_probability)\n",
      "\n",
      "def encode_lzw(input_):\n",
      "    dict_ = {}\n",
      "    dict_value = 256\n",
      "    prefix = input_[0]\n",
      "    \n",
      "    # Init dictionary\n",
      "    for char in range(ord('A'), ord('Z')+1):\n",
      "        dict_[chr(char)] = char\n",
      "    dict_['_'] = ord('_')\n",
      "        \n",
      "    def add_to_dict(char, dict_value):\n",
      "        dict_[char] = dict_value\n",
      "        return dict_value + 1\n",
      "    \n",
      "    for i in range(1, len(input_)):\n",
      "        #print 'dict: {0}'.format(dict_)\n",
      "        current_sign = input_[i]\n",
      "        #print 'current sign: {0}'.format(current_sign)\n",
      "        lookahead = ''.join([prefix, current_sign])\n",
      "        #print 'lookahead: {0}'.format(lookahead)\n",
      "        \n",
      "        if lookahead in dict_:\n",
      "            prefix = lookahead\n",
      "            #print '{0} in dict. Set prefix to {1}'.format(lookahead, prefix)\n",
      "        else:\n",
      "            #print '{0} not in dict_, added it'.format(lookahead)\n",
      "            print 'output: {0}; ascii: {1}'.format(dict_[prefix], prefix)\n",
      "            add_to_dict(lookahead, dict_value)\n",
      "            prefix = current_sign\n",
      "            #print 'Set prefix to {0}'.format(prefix)\n",
      "        \n",
      "        #print ''\n",
      "    \n",
      "    if len(prefix) > 0:\n",
      "        print 'output: {0}; ascii: {1}'.format(ord(prefix), prefix)"
     ],
     "language": "python",
     "metadata": {},
     "outputs": [],
     "prompt_number": 55
    },
    {
     "cell_type": "code",
     "collapsed": false,
     "input": [
      "encode_lzw('BLAH_BLAH_BLAH_BLAH_BLAH_BLAH_BLAH_BLAH')"
     ],
     "language": "python",
     "metadata": {},
     "outputs": [
      {
       "output_type": "stream",
       "stream": "stdout",
       "text": [
        "output: 66; ascii: B\n",
        "output: 76; ascii: L\n",
        "output: 65; ascii: A\n",
        "output: 72; ascii: H\n",
        "output: 95; ascii: _\n",
        "output: 256; ascii: BL\n",
        "output: 256; ascii: AH\n",
        "output: 256; ascii: _B\n",
        "output: 256; ascii: LA\n",
        "output: 256; ascii: H_\n",
        "output: 256; ascii: BLA\n",
        "output: 256; ascii: H_B\n",
        "output: 256; ascii: LAH\n",
        "output: 256; ascii: _BL\n",
        "output: 256; ascii: AH_\n",
        "output: 256; ascii: BLAH\n",
        "output: 256; ascii: _BLA\n",
        "output: 72; ascii: H\n"
       ]
      }
     ],
     "prompt_number": 56
    },
    {
     "cell_type": "code",
     "collapsed": false,
     "input": [
      "\n",
      "import string\n",
      "''.join(['foo', 'bar'])\n"
     ],
     "language": "python",
     "metadata": {},
     "outputs": [
      {
       "metadata": {},
       "output_type": "pyout",
       "prompt_number": 12,
       "text": [
        "'foobar'"
       ]
      }
     ],
     "prompt_number": 12
    },
    {
     "cell_type": "code",
     "collapsed": false,
     "input": [],
     "language": "python",
     "metadata": {},
     "outputs": []
    }
   ],
   "metadata": {}
  }
 ]
}