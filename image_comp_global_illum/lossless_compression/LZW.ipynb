{
 "metadata": {
  "name": ""
 },
 "nbformat": 3,
 "nbformat_minor": 0,
 "worksheets": [
  {
   "cells": [
    {
     "cell_type": "code",
     "collapsed": false,
     "input": [
      "import math\n",
      "import string\n",
      "\n",
      "def sign_entropy(sign_probability):\n",
      "    return -math.log(sign_probability, 2)\n",
      "\n",
      "def sign_mean_entropy(sign_probability):\n",
      "    return sign_probability * sign_entropy(sign_probability)\n",
      "\n",
      "class LZW:\n",
      "    def __init__(self, input_):\n",
      "        self.orig_input = input_\n",
      "        self.output = []\n",
      "        self.dict_ = {}\n",
      "        self.dict_value = 256\n",
      "        self.reset()\n",
      "        \n",
      "    def reset(self):\n",
      "        self.prefix = None\n",
      "        self.code = None\n",
      "        self.code_old = None\n",
      "\n",
      "    def init_dict(self, ord_as_index=False):\n",
      "        self.dict_ = {}\n",
      "        self.dict_value = 256\n",
      "        \n",
      "        for char in self.orig_input:\n",
      "            if ord_as_index:\n",
      "                self.dict_[ord(char)] = char\n",
      "            \n",
      "            else:\n",
      "                self.dict_[char] = ord(char)\n",
      "\n",
      "    def add_to_dict(self, char, value_as_index=False):\n",
      "        if value_as_index:\n",
      "            self.dict_[self.dict_value] = char\n",
      "    \n",
      "        else:\n",
      "            self.dict_[char] = self.dict_value\n",
      "            \n",
      "        self.dict_value += 1\n",
      "\n",
      "    def encode(self):\n",
      "        self.reset()\n",
      "        self.output = []\n",
      "        self.prefix = self.orig_input[0]\n",
      "        \n",
      "        self.init_dict()\n",
      "    \n",
      "        for i in range(1, len(self.orig_input)):\n",
      "            current_sign = self.orig_input[i]\n",
      "            lookahead = ''.join([self.prefix, current_sign])\n",
      "        \n",
      "            if lookahead in self.dict_:\n",
      "                self.prefix = lookahead\n",
      "            \n",
      "            else:\n",
      "                print 'output: {0}; ascii: {1}'.format(self.dict_[self.prefix], self.prefix)\n",
      "                self.output.append(self.dict_[self.prefix])\n",
      "                self.add_to_dict(lookahead)\n",
      "                self.prefix = current_sign\n",
      "    \n",
      "        if len(self.prefix) > 0:\n",
      "            print 'output: {0}; ascii: {1}'.format(ord(self.prefix), self.prefix)\n",
      "            self.output.append(ord(self.prefix))\n",
      "        \n",
      "        return  self.output\n",
      "    \n",
      "    def decode(self, init_dict=True):\n",
      "        self.reset()\n",
      "        self.code = self.output[0]\n",
      "        print 'In: {0}; Out: {1}'.format(self.code, chr(self.code))\n",
      "    \n",
      "        if init_dict:\n",
      "            self.init_dict(ord_as_index=True)\n",
      "    \n",
      "        for i in self.output[1::]:\n",
      "            self.code_old = self.code\n",
      "            self.code = i\n",
      "\n",
      "            if self.code in self.dict_:\n",
      "                print 'In: {0}; Out: {1}'.format(self.code, self.dict_[self.code])\n",
      "                self.prefix = self.code_old\n",
      "                sign = self.dict_[self.code][:1]\n",
      "                self.add_to_dict(''.join([self.dict_[self.prefix], sign]), value_as_index=True)\n",
      "        \n",
      "            else:\n",
      "                self.prefix = self.code_old\n",
      "                sign = self.dict_[self.code_old][:1]\n",
      "                print 'In: {0}; Out: {1}'.format(self.prefix, self.dict_[self.prefix])\n",
      "                \n",
      "    def print_statistics(self):\n",
      "        print 'Input \"{0}\" has {1} Bytes'.format(self.orig_input, len(self.orig_input))\n",
      "        print 'Ouput has {0} Bytes.'.format(len(self.output) * 2)\n",
      "        print 'Reduction: {0} %'.format(100 - (100 / len(self.orig_input) * (len(self.output) * 2)))"
     ],
     "language": "python",
     "metadata": {},
     "outputs": [],
     "prompt_number": 22
    },
    {
     "cell_type": "code",
     "collapsed": false,
     "input": [
      "input_string = 'BLAH_BLAH_BLAH_BLAH_BLAH_BLAH_BLAH_BLAH'\n",
      "lzw = LZW(input_string)"
     ],
     "language": "python",
     "metadata": {},
     "outputs": [],
     "prompt_number": 23
    },
    {
     "cell_type": "code",
     "collapsed": false,
     "input": [
      "output_stream = lzw.encode()"
     ],
     "language": "python",
     "metadata": {},
     "outputs": [
      {
       "output_type": "stream",
       "stream": "stdout",
       "text": [
        "output: 66; ascii: B\n",
        "output: 76; ascii: L\n",
        "output: 65; ascii: A\n",
        "output: 72; ascii: H\n",
        "output: 95; ascii: _\n",
        "output: 256; ascii: BL\n",
        "output: 258; ascii: AH\n",
        "output: 260; ascii: _B\n",
        "output: 257; ascii: LA\n",
        "output: 259; ascii: H_\n",
        "output: 261; ascii: BLA\n",
        "output: 265; ascii: H_B\n",
        "output: 264; ascii: LAH\n",
        "output: 263; ascii: _BL\n",
        "output: 262; ascii: AH_\n",
        "output: 266; ascii: BLAH\n",
        "output: 269; ascii: _BLA\n",
        "output: 72; ascii: H\n"
       ]
      }
     ],
     "prompt_number": 24
    },
    {
     "cell_type": "code",
     "collapsed": false,
     "input": [
      "lzw.decode()"
     ],
     "language": "python",
     "metadata": {},
     "outputs": [
      {
       "output_type": "stream",
       "stream": "stdout",
       "text": [
        "In: 66; Out: B\n",
        "In: 76; Out: L\n",
        "In: 65; Out: A\n",
        "In: 72; Out: H\n",
        "In: 95; Out: _\n",
        "In: 256; Out: BL\n",
        "In: 258; Out: AH\n",
        "In: 260; Out: _B\n",
        "In: 257; Out: LA\n",
        "In: 259; Out: H_\n",
        "In: 261; Out: BLA\n",
        "In: 265; Out: H_B\n",
        "In: 264; Out: LAH\n",
        "In: 263; Out: _BL\n",
        "In: 262; Out: AH_\n",
        "In: 266; Out: BLAH\n",
        "In: 269; Out: _BLA\n",
        "In: 72; Out: H\n"
       ]
      }
     ],
     "prompt_number": 25
    },
    {
     "cell_type": "code",
     "collapsed": false,
     "input": [
      "lzw.print_statistics()"
     ],
     "language": "python",
     "metadata": {},
     "outputs": [
      {
       "output_type": "stream",
       "stream": "stdout",
       "text": [
        "Input \"BLAH_BLAH_BLAH_BLAH_BLAH_BLAH_BLAH_BLAH\" has 39 Bytes\n",
        "Ouput has 36 Bytes.\n",
        "Reduction: 28 %\n"
       ]
      }
     ],
     "prompt_number": 26
    },
    {
     "cell_type": "code",
     "collapsed": false,
     "input": [
      "input_ = [77, 73, 78, 85, 83, 257, 259, 256, 258, 260, 262, 83, 264, 259, 261, 265]\n",
      "\n",
      "lzw_2 = LZW(None)\n",
      "lzw_2.dict_ = {}\n",
      "lzw_2.dict_[77] = 'M'\n",
      "lzw_2.dict_[73] = 'I'\n",
      "lzw_2.dict_[78] = 'N'\n",
      "lzw_2.dict_[85] = 'U'\n",
      "lzw_2.dict_[83] = 'S'\n",
      "\n",
      "\n",
      "lzw_2.output = input_\n",
      "\n",
      "lzw_2.decode(init_dict=False)\n",
      "\n",
      "for o in lzw_2.output:\n",
      "    print lzw_2.dict_[o],\n"
     ],
     "language": "python",
     "metadata": {},
     "outputs": [
      {
       "output_type": "stream",
       "stream": "stdout",
       "text": [
        "In: 77; Out: M\n",
        "In: 73; Out: I\n",
        "In: 78; Out: N\n",
        "In: 85; Out: U\n",
        "In: 83; Out: S\n",
        "In: 257; Out: IN\n",
        "In: 259; Out: US\n",
        "In: 256; Out: MI\n",
        "In: 258; Out: NU\n",
        "In: 260; Out: SI\n",
        "In: 262; Out: USM\n",
        "In: 83; Out: S\n",
        "In: 264; Out: NUS\n",
        "In: 259; Out: US\n",
        "In: 261; Out: INU\n",
        "In: 265; Out: SIU\n",
        "M I N U S IN US MI NU SI USM S NUS US INU SIU\n"
       ]
      }
     ],
     "prompt_number": 30
    },
    {
     "cell_type": "code",
     "collapsed": false,
     "input": [],
     "language": "python",
     "metadata": {},
     "outputs": []
    }
   ],
   "metadata": {}
  }
 ]
}